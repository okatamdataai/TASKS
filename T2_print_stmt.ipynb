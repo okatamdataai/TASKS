{
 "cells": [
  {
   "cell_type": "code",
   "execution_count": 2,
   "id": "7b066d60-b57f-43d4-8585-dc94c8cffc73",
   "metadata": {},
   "outputs": [
    {
     "data": {
      "text/plain": [
       "20"
      ]
     },
     "execution_count": 2,
     "metadata": {},
     "output_type": "execute_result"
    }
   ],
   "source": [
    "a=10\n",
    "b=20\n",
    "a\n",
    "b"
   ]
  },
  {
   "cell_type": "code",
   "execution_count": 3,
   "id": "e98fe55e-1b9d-447e-9170-57edbb636745",
   "metadata": {},
   "outputs": [
    {
     "name": "stdout",
     "output_type": "stream",
     "text": [
      "10\n",
      "20\n"
     ]
    }
   ],
   "source": [
    "a=10\n",
    "b=20\n",
    "print(a)\n",
    "print(b)"
   ]
  },
  {
   "cell_type": "code",
   "execution_count": 5,
   "id": "faae6387-db01-4c44-b060-4205e8a192a8",
   "metadata": {},
   "outputs": [
    {
     "name": "stdout",
     "output_type": "stream",
     "text": [
      "10\n",
      "10 20\n",
      "python\n",
      "10 20 python\n"
     ]
    }
   ],
   "source": [
    "print(10)\n",
    "print(10,20)\n",
    "print('python')\n",
    "print(10,20,\"python\")"
   ]
  },
  {
   "cell_type": "code",
   "execution_count": 7,
   "id": "f340c088-5c10-46af-8f34-dd3aec0d33b4",
   "metadata": {},
   "outputs": [
    {
     "name": "stdout",
     "output_type": "stream",
     "text": [
      "12\n"
     ]
    }
   ],
   "source": [
    "num1=10\n",
    "num2=2\n",
    "a=num1+num2\n",
    "print(a)"
   ]
  },
  {
   "cell_type": "code",
   "execution_count": 8,
   "id": "a4d051f4-b96e-4b3c-8c56-2d4807873526",
   "metadata": {},
   "outputs": [
    {
     "name": "stdout",
     "output_type": "stream",
     "text": [
      "The addition of 10 and 2 is= 12\n"
     ]
    }
   ],
   "source": [
    "num1=10\n",
    "num2=2\n",
    "a=num1+num2\n",
    "print(\"The addition of\",num1, 'and', num2, 'is=', a)"
   ]
  },
  {
   "cell_type": "code",
   "execution_count": 10,
   "id": "eab334f9-3832-4590-aeb5-9e4caa0a04a5",
   "metadata": {},
   "outputs": [
    {
     "name": "stdout",
     "output_type": "stream",
     "text": [
      "my name is venkat and age is 36 and city is hyd\n"
     ]
    }
   ],
   "source": [
    "name=\"venkat\"\n",
    "age=36\n",
    "city='hyd'\n",
    "print('my name is',name, 'and', \"age is\", age, \"and city is\", city)\n"
   ]
  },
  {
   "cell_type": "markdown",
   "id": "dc6b9459-a648-4932-8ac1-f8792b8a9946",
   "metadata": {},
   "source": [
    "#PRINT FORMAT METHOD"
   ]
  },
  {
   "cell_type": "code",
   "execution_count": 11,
   "id": "4a4e67d2-8d25-4422-80b9-a08336333be1",
   "metadata": {},
   "outputs": [
    {
     "name": "stdout",
     "output_type": "stream",
     "text": [
      "Addition of 20 and 10 is = 30\n"
     ]
    }
   ],
   "source": [
    "num1=20\n",
    "num2=10\n",
    "a=num1+num2\n",
    "print('Addition of {} and {} is = {}'.format(num1,num2,a))"
   ]
  },
  {
   "cell_type": "code",
   "execution_count": 12,
   "id": "78309cd6-e7ff-4281-bfee-199055730000",
   "metadata": {},
   "outputs": [
    {
     "name": "stdout",
     "output_type": "stream",
     "text": [
      "Hi my name is reddy, age is 36 and city is hyd\n"
     ]
    }
   ],
   "source": [
    "name=\"reddy\"\n",
    "age=36\n",
    "city='hyd'\n",
    "print('Hi my name is {}, age is {} and city is {}' .format(name,age,city))"
   ]
  },
  {
   "cell_type": "code",
   "execution_count": 13,
   "id": "0ea156fe-1bac-45fc-a557-2282f545fcd9",
   "metadata": {},
   "outputs": [
    {
     "name": "stdout",
     "output_type": "stream",
     "text": [
      "The average of 100, 50, and 25 is=58.333333333333336 or (58.333333333333336, 2)\n"
     ]
    }
   ],
   "source": [
    "num1=100\n",
    "num2=50\n",
    "num3=25\n",
    "avg=(num1+num2+num3)/3\n",
    "avg1=round(num1+num2+num3)/3,2\n",
    "print('The average of {}, {}, and {} is={} or {}'.format(num1,num2,num3,avg,avg1))"
   ]
  },
  {
   "cell_type": "code",
   "execution_count": 14,
   "id": "c6c5282a-2ca1-4708-a897-b9e4906a0d78",
   "metadata": {},
   "outputs": [
    {
     "data": {
      "text/plain": [
       "58.33"
      ]
     },
     "execution_count": 14,
     "metadata": {},
     "output_type": "execute_result"
    }
   ],
   "source": [
    "round(avg,2)"
   ]
  },
  {
   "cell_type": "code",
   "execution_count": 9,
   "id": "eea0167e-d499-47c7-8900-0a6ee78ae518",
   "metadata": {},
   "outputs": [
    {
     "name": "stdout",
     "output_type": "stream",
     "text": [
      "the sum of 100 and 50 is= 150\n",
      "the addition of 100 and 50 is= 150\n",
      "The addition of {num1} and {num2} is ={a}\n"
     ]
    }
   ],
   "source": [
    "num1=100\n",
    "num2=50\n",
    "a=num1+num2\n",
    "\n",
    "print('the sum of',num1,'and', num2,'is=',a)\n",
    "print('the addition of {} and {} is= {}'.format (num1,num2,a))\n",
    "print('The addition of {num1} and {num2} is ={a}')"
   ]
  },
  {
   "cell_type": "code",
   "execution_count": 15,
   "id": "b4bc0e0c-e55e-4f2e-b754-cef6545fdd06",
   "metadata": {},
   "outputs": [
    {
     "name": "stdout",
     "output_type": "stream",
     "text": [
      "hello venkat\n"
     ]
    }
   ],
   "source": [
    "print('hello', end='')\n",
    "print(' venkat')"
   ]
  },
  {
   "cell_type": "code",
   "execution_count": 13,
   "id": "e627d193-d585-48cb-8567-9574a412960d",
   "metadata": {},
   "outputs": [
    {
     "name": "stdout",
     "output_type": "stream",
     "text": [
      "hello--->how--->are--->you\n"
     ]
    }
   ],
   "source": [
    "print('hello', 'how', 'are', 'you', sep='--->')"
   ]
  },
  {
   "cell_type": "code",
   "execution_count": 16,
   "id": "37e729e0-7f94-4d53-a1ac-f9905bc75ea5",
   "metadata": {},
   "outputs": [
    {
     "name": "stdout",
     "output_type": "stream",
     "text": [
      "hello--->good--->morning--->you?\n"
     ]
    }
   ],
   "source": [
    "print('hello', 'good', 'morning', 'you?', sep='--->')"
   ]
  },
  {
   "cell_type": "code",
   "execution_count": 17,
   "id": "6831bf34-fe5d-4645-a2ed-887d1ddf9c85",
   "metadata": {},
   "outputs": [
    {
     "name": "stdout",
     "output_type": "stream",
     "text": [
      "3 -\n"
     ]
    }
   ],
   "source": [
    "print(3,'-')"
   ]
  },
  {
   "cell_type": "code",
   "execution_count": 18,
   "id": "e97ceaed-1b54-4852-8157-082b456381bf",
   "metadata": {},
   "outputs": [
    {
     "name": "stdout",
     "output_type": "stream",
     "text": [
      "3.\n"
     ]
    }
   ],
   "source": [
    "print(3,'.',sep='')"
   ]
  },
  {
   "cell_type": "code",
   "execution_count": 19,
   "id": "94f00d52-a9a8-456e-87f6-eb83f36216a3",
   "metadata": {},
   "outputs": [
    {
     "name": "stdout",
     "output_type": "stream",
     "text": [
      "3-\n"
     ]
    }
   ],
   "source": [
    "print(3,'-',sep='')"
   ]
  },
  {
   "cell_type": "code",
   "execution_count": 21,
   "id": "0df4fe97-ce9a-4278-b781-05aec72ee550",
   "metadata": {},
   "outputs": [
    {
     "name": "stdout",
     "output_type": "stream",
     "text": [
      "1 2 3.\n"
     ]
    }
   ],
   "source": [
    "print(1,2,end=' ')\n",
    "print(3,'.',sep='')"
   ]
  },
  {
   "cell_type": "code",
   "execution_count": 2,
   "id": "b383a624-b1cb-4c6d-a8ff-d38b4103bc4c",
   "metadata": {},
   "outputs": [
    {
     "name": "stdout",
     "output_type": "stream",
     "text": [
      "140716604140568\n",
      "140716604140568\n",
      "140716604140568\n"
     ]
    }
   ],
   "source": [
    "p=20\n",
    "q=20\n",
    "r=20\n",
    "print(id(q))\n",
    "print(id(p))\n",
    "print(id(r))\n"
   ]
  },
  {
   "cell_type": "code",
   "execution_count": 3,
   "id": "ee0512fc-2e6f-4498-a67f-f86a5794f6c1",
   "metadata": {},
   "outputs": [
    {
     "name": "stdout",
     "output_type": "stream",
     "text": [
      "140716604140888\n",
      "140716604140568\n",
      "140716604141208\n"
     ]
    }
   ],
   "source": [
    "p1,q1,r1=20,30,40\n",
    "print(id(q1))\n",
    "print(id(p1))\n",
    "print(id(r1))"
   ]
  },
  {
   "cell_type": "markdown",
   "id": "daaabfb4-8b6d-4aa6-84e3-70e65d598ccf",
   "metadata": {},
   "source": [
    "STRING\n"
   ]
  },
  {
   "cell_type": "code",
   "execution_count": 11,
   "id": "d42321c3-3866-4901-b122-9803a9242797",
   "metadata": {},
   "outputs": [],
   "source": [
    "s='hello python'"
   ]
  },
  {
   "cell_type": "code",
   "execution_count": 5,
   "id": "2a9a7828-d2a8-40df-8c6a-4e3162836e8f",
   "metadata": {},
   "outputs": [
    {
     "data": {
      "text/plain": [
       "'p'"
      ]
     },
     "execution_count": 5,
     "metadata": {},
     "output_type": "execute_result"
    }
   ],
   "source": [
    "s[0]"
   ]
  },
  {
   "cell_type": "code",
   "execution_count": 6,
   "id": "b444b1ac-c449-4d31-adac-9e6b53c47773",
   "metadata": {},
   "outputs": [
    {
     "data": {
      "text/plain": [
       "'n'"
      ]
     },
     "execution_count": 6,
     "metadata": {},
     "output_type": "execute_result"
    }
   ],
   "source": [
    "s[-1]"
   ]
  },
  {
   "cell_type": "code",
   "execution_count": 7,
   "id": "e9ea4e52-00df-4482-8c24-bc1168cd73fe",
   "metadata": {},
   "outputs": [
    {
     "data": {
      "text/plain": [
       "'python'"
      ]
     },
     "execution_count": 7,
     "metadata": {},
     "output_type": "execute_result"
    }
   ],
   "source": [
    "s"
   ]
  },
  {
   "cell_type": "code",
   "execution_count": 8,
   "id": "f76733bc-fea9-46ac-92e1-ff13938753b4",
   "metadata": {},
   "outputs": [
    {
     "data": {
      "text/plain": [
       "'python'"
      ]
     },
     "execution_count": 8,
     "metadata": {},
     "output_type": "execute_result"
    }
   ],
   "source": [
    "s[:]"
   ]
  },
  {
   "cell_type": "code",
   "execution_count": 9,
   "id": "49bb17a6-1a9a-4820-ae8f-d16b80b0ad3f",
   "metadata": {},
   "outputs": [
    {
     "data": {
      "text/plain": [
       "'pytho'"
      ]
     },
     "execution_count": 9,
     "metadata": {},
     "output_type": "execute_result"
    }
   ],
   "source": [
    "s[0:5]"
   ]
  },
  {
   "cell_type": "code",
   "execution_count": 10,
   "id": "6181f053-e1ec-4264-b5ac-3aeecea3607a",
   "metadata": {},
   "outputs": [
    {
     "data": {
      "text/plain": [
       "'python'"
      ]
     },
     "execution_count": 10,
     "metadata": {},
     "output_type": "execute_result"
    }
   ],
   "source": [
    "s[0:6]"
   ]
  },
  {
   "cell_type": "code",
   "execution_count": 12,
   "id": "e327195a-f994-450e-befa-e4d99ef73f19",
   "metadata": {},
   "outputs": [
    {
     "data": {
      "text/plain": [
       "'hello p'"
      ]
     },
     "execution_count": 12,
     "metadata": {},
     "output_type": "execute_result"
    }
   ],
   "source": [
    "s[0:7]"
   ]
  },
  {
   "cell_type": "code",
   "execution_count": 14,
   "id": "8c3ac7df-386b-4bfc-bf01-1f848e1b5367",
   "metadata": {},
   "outputs": [
    {
     "data": {
      "text/plain": [
       "'hello '"
      ]
     },
     "execution_count": 14,
     "metadata": {},
     "output_type": "execute_result"
    }
   ],
   "source": [
    "s[0:6]"
   ]
  },
  {
   "cell_type": "code",
   "execution_count": 16,
   "id": "21792d8b-ff98-4b7e-b4a9-ac31ddc03691",
   "metadata": {},
   "outputs": [
    {
     "data": {
      "text/plain": [
       "'pyt'"
      ]
     },
     "execution_count": 16,
     "metadata": {},
     "output_type": "execute_result"
    }
   ],
   "source": [
    "s[6:9]"
   ]
  },
  {
   "cell_type": "code",
   "execution_count": 17,
   "id": "6ba75b58-5aec-4cb5-b0d0-7c965d647d3e",
   "metadata": {},
   "outputs": [
    {
     "data": {
      "text/plain": [
       "'tho'"
      ]
     },
     "execution_count": 17,
     "metadata": {},
     "output_type": "execute_result"
    }
   ],
   "source": [
    "s[-4:-1]"
   ]
  },
  {
   "cell_type": "code",
   "execution_count": 18,
   "id": "bd39f278-03fb-4f61-9c82-94ecf0557abb",
   "metadata": {},
   "outputs": [
    {
     "data": {
      "text/plain": [
       "'hello python'"
      ]
     },
     "execution_count": 18,
     "metadata": {},
     "output_type": "execute_result"
    }
   ],
   "source": [
    "s"
   ]
  },
  {
   "cell_type": "code",
   "execution_count": 19,
   "id": "13be64b7-4b9d-401d-b5f8-022d7efa885d",
   "metadata": {},
   "outputs": [
    {
     "data": {
      "text/plain": [
       "'llo python'"
      ]
     },
     "execution_count": 19,
     "metadata": {},
     "output_type": "execute_result"
    }
   ],
   "source": [
    "s[2:]"
   ]
  },
  {
   "cell_type": "code",
   "execution_count": 20,
   "id": "fed6cc60-fe75-47dc-ad09-705f654d114e",
   "metadata": {},
   "outputs": [
    {
     "data": {
      "text/plain": [
       "'hello p'"
      ]
     },
     "execution_count": 20,
     "metadata": {},
     "output_type": "execute_result"
    }
   ],
   "source": [
    "s[:7]"
   ]
  },
  {
   "cell_type": "code",
   "execution_count": 21,
   "id": "48139e28-f9d8-4749-ad29-c23ce934bff7",
   "metadata": {},
   "outputs": [
    {
     "data": {
      "text/plain": [
       "'nohtyp olleh'"
      ]
     },
     "execution_count": 21,
     "metadata": {},
     "output_type": "execute_result"
    }
   ],
   "source": [
    "s[::-1]"
   ]
  },
  {
   "cell_type": "code",
   "execution_count": 22,
   "id": "69ad0f03-9ee2-47e7-89c3-8599eb15a811",
   "metadata": {},
   "outputs": [
    {
     "data": {
      "text/plain": [
       "'npe'"
      ]
     },
     "execution_count": 22,
     "metadata": {},
     "output_type": "execute_result"
    }
   ],
   "source": [
    "s[::-5]"
   ]
  },
  {
   "cell_type": "code",
   "execution_count": 23,
   "id": "9acd709a-c9e8-4b66-8271-eebae8b1ce3f",
   "metadata": {},
   "outputs": [
    {
     "data": {
      "text/plain": [
       "'hlph'"
      ]
     },
     "execution_count": 23,
     "metadata": {},
     "output_type": "execute_result"
    }
   ],
   "source": [
    "s[0:13:3]"
   ]
  },
  {
   "cell_type": "code",
   "execution_count": 24,
   "id": "4b960ca0-8bad-4505-a36d-f088914a29a3",
   "metadata": {},
   "outputs": [
    {
     "data": {
      "text/plain": [
       "'lopto'"
      ]
     },
     "execution_count": 24,
     "metadata": {},
     "output_type": "execute_result"
    }
   ],
   "source": [
    "s[2:11:2]"
   ]
  },
  {
   "cell_type": "code",
   "execution_count": null,
   "id": "2f45a892-58cc-4b0c-a1d3-c8058153c2fa",
   "metadata": {},
   "outputs": [],
   "source": []
  }
 ],
 "metadata": {
  "kernelspec": {
   "display_name": "Python [conda env:base] *",
   "language": "python",
   "name": "conda-base-py"
  },
  "language_info": {
   "codemirror_mode": {
    "name": "ipython",
    "version": 3
   },
   "file_extension": ".py",
   "mimetype": "text/x-python",
   "name": "python",
   "nbconvert_exporter": "python",
   "pygments_lexer": "ipython3",
   "version": "3.12.7"
  }
 },
 "nbformat": 4,
 "nbformat_minor": 5
}
