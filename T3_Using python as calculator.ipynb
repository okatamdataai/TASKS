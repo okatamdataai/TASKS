{
 "cells": [
  {
   "cell_type": "code",
   "execution_count": 1,
   "id": "053e174c-1af8-485e-8e14-26a820b7287a",
   "metadata": {},
   "outputs": [
    {
     "data": {
      "text/plain": [
       "4"
      ]
     },
     "execution_count": 1,
     "metadata": {},
     "output_type": "execute_result"
    }
   ],
   "source": [
    "2+2"
   ]
  },
  {
   "cell_type": "code",
   "execution_count": 2,
   "id": "1e5e5ff3-9a16-4115-963f-e63d7d6e16cf",
   "metadata": {},
   "outputs": [
    {
     "data": {
      "text/plain": [
       "20"
      ]
     },
     "execution_count": 2,
     "metadata": {},
     "output_type": "execute_result"
    }
   ],
   "source": [
    "50-5*6"
   ]
  },
  {
   "cell_type": "code",
   "execution_count": 7,
   "id": "d514adfd-4306-433d-95e8-69021d5583d7",
   "metadata": {},
   "outputs": [
    {
     "data": {
      "text/plain": [
       "5.0"
      ]
     },
     "execution_count": 7,
     "metadata": {},
     "output_type": "execute_result"
    }
   ],
   "source": [
    "(50-5*6)/4"
   ]
  },
  {
   "cell_type": "code",
   "execution_count": 8,
   "id": "4c2fc94e-9a29-4935-8678-f061c48bd5a4",
   "metadata": {},
   "outputs": [
    {
     "data": {
      "text/plain": [
       "1.6"
      ]
     },
     "execution_count": 8,
     "metadata": {},
     "output_type": "execute_result"
    }
   ],
   "source": [
    "8/5"
   ]
  },
  {
   "cell_type": "code",
   "execution_count": 9,
   "id": "1fe80bf6-01ec-4bd0-b566-5ab8a479fc63",
   "metadata": {},
   "outputs": [
    {
     "data": {
      "text/plain": [
       "5.666666666666667"
      ]
     },
     "execution_count": 9,
     "metadata": {},
     "output_type": "execute_result"
    }
   ],
   "source": [
    "17/3"
   ]
  },
  {
   "cell_type": "code",
   "execution_count": 10,
   "id": "21f105d6-6bb0-42e8-a603-4e4531811bd6",
   "metadata": {},
   "outputs": [
    {
     "data": {
      "text/plain": [
       "5"
      ]
     },
     "execution_count": 10,
     "metadata": {},
     "output_type": "execute_result"
    }
   ],
   "source": [
    "17//3"
   ]
  },
  {
   "cell_type": "markdown",
   "id": "5a2bb517-1f41-4599-a684-acf4b60de671",
   "metadata": {},
   "source": [
    "width = 20\n",
    "height = 5 * 9"
   ]
  },
  {
   "cell_type": "code",
   "execution_count": 11,
   "id": "e8ef109d-e6fe-46ae-84c2-9bf5c6bc8e68",
   "metadata": {},
   "outputs": [
    {
     "ename": "NameError",
     "evalue": "name 'width' is not defined",
     "output_type": "error",
     "traceback": [
      "\u001b[1;31m---------------------------------------------------------------------------\u001b[0m",
      "\u001b[1;31mNameError\u001b[0m                                 Traceback (most recent call last)",
      "Cell \u001b[1;32mIn[11], line 1\u001b[0m\n\u001b[1;32m----> 1\u001b[0m width\u001b[38;5;241m*\u001b[39mheight\n",
      "\u001b[1;31mNameError\u001b[0m: name 'width' is not defined"
     ]
    }
   ],
   "source": [
    "width*height"
   ]
  },
  {
   "cell_type": "code",
   "execution_count": 12,
   "id": "d6a3e316-44c2-4e71-ada2-a04b4a3bc697",
   "metadata": {},
   "outputs": [
    {
     "data": {
      "text/plain": [
       "14.0"
      ]
     },
     "execution_count": 12,
     "metadata": {},
     "output_type": "execute_result"
    }
   ],
   "source": [
    "4*3.75-1"
   ]
  },
  {
   "cell_type": "code",
   "execution_count": 13,
   "id": "08ff5949-a9e1-487d-aebb-beab31332d32",
   "metadata": {},
   "outputs": [
    {
     "data": {
      "text/plain": [
       "12.5625"
      ]
     },
     "execution_count": 13,
     "metadata": {},
     "output_type": "execute_result"
    }
   ],
   "source": [
    "tax=12.5/100\n",
    "price=100.50\n",
    "price*tax\n"
   ]
  },
  {
   "cell_type": "code",
   "execution_count": 15,
   "id": "0bd7d167-555a-4ed1-82b0-faeecd574be4",
   "metadata": {},
   "outputs": [
    {
     "ename": "TypeError",
     "evalue": "unsupported operand type(s) for +: 'float' and 'str'",
     "output_type": "error",
     "traceback": [
      "\u001b[1;31m---------------------------------------------------------------------------\u001b[0m",
      "\u001b[1;31mTypeError\u001b[0m                                 Traceback (most recent call last)",
      "Cell \u001b[1;32mIn[15], line 1\u001b[0m\n\u001b[1;32m----> 1\u001b[0m price\u001b[38;5;241m+\u001b[39m_\n",
      "\u001b[1;31mTypeError\u001b[0m: unsupported operand type(s) for +: 'float' and 'str'"
     ]
    }
   ],
   "source": [
    "price+_"
   ]
  },
  {
   "cell_type": "code",
   "execution_count": null,
   "id": "e76d493c-5a3b-4739-ba8e-95b7d92f4a79",
   "metadata": {},
   "outputs": [],
   "source": []
  }
 ],
 "metadata": {
  "kernelspec": {
   "display_name": "Python [conda env:base] *",
   "language": "python",
   "name": "conda-base-py"
  },
  "language_info": {
   "codemirror_mode": {
    "name": "ipython",
    "version": 3
   },
   "file_extension": ".py",
   "mimetype": "text/x-python",
   "name": "python",
   "nbconvert_exporter": "python",
   "pygments_lexer": "ipython3",
   "version": "3.12.7"
  }
 },
 "nbformat": 4,
 "nbformat_minor": 5
}
