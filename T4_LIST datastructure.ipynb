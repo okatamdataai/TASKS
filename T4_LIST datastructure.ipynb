{
 "cells": [
  {
   "cell_type": "code",
   "execution_count": 3,
   "id": "8c0155da-dcef-4a0c-b016-76daa3449cd4",
   "metadata": {},
   "outputs": [
    {
     "data": {
      "text/plain": [
       "[]"
      ]
     },
     "execution_count": 3,
     "metadata": {},
     "output_type": "execute_result"
    }
   ],
   "source": [
    "l=[] \n",
    "l"
   ]
  },
  {
   "cell_type": "code",
   "execution_count": 4,
   "id": "cf3ff524-bf5c-4f1c-9212-ec4e1dfc5b16",
   "metadata": {},
   "outputs": [
    {
     "data": {
      "text/plain": [
       "list"
      ]
     },
     "execution_count": 4,
     "metadata": {},
     "output_type": "execute_result"
    }
   ],
   "source": [
    "type(l)"
   ]
  },
  {
   "cell_type": "code",
   "execution_count": 5,
   "id": "ef153ded-2077-4ce1-9080-e788afff2157",
   "metadata": {},
   "outputs": [
    {
     "name": "stdout",
     "output_type": "stream",
     "text": [
      "<class 'list'>\n"
     ]
    }
   ],
   "source": [
    "print(type(l))"
   ]
  },
  {
   "cell_type": "code",
   "execution_count": 6,
   "id": "fd00b1a4-c52b-4dcb-a7ff-b85a0d05dec9",
   "metadata": {},
   "outputs": [
    {
     "data": {
      "text/plain": [
       "0"
      ]
     },
     "execution_count": 6,
     "metadata": {},
     "output_type": "execute_result"
    }
   ],
   "source": [
    "len(l)"
   ]
  },
  {
   "cell_type": "code",
   "execution_count": 7,
   "id": "2c489b63-58e8-4606-8715-ef215722aeaf",
   "metadata": {},
   "outputs": [
    {
     "data": {
      "text/plain": [
       "[10]"
      ]
     },
     "execution_count": 7,
     "metadata": {},
     "output_type": "execute_result"
    }
   ],
   "source": [
    "l.append(10)\n",
    "l"
   ]
  },
  {
   "cell_type": "code",
   "execution_count": 8,
   "id": "c1bdcaf8-e824-4fd3-a506-31693d748a99",
   "metadata": {},
   "outputs": [],
   "source": [
    "l.append(20)\n",
    "l.append(60)"
   ]
  },
  {
   "cell_type": "code",
   "execution_count": 8,
   "id": "f3348ff1-aace-4cd2-9a90-487fbd52d01a",
   "metadata": {},
   "outputs": [
    {
     "data": {
      "text/plain": [
       "[10, 20, 60]"
      ]
     },
     "execution_count": 8,
     "metadata": {},
     "output_type": "execute_result"
    }
   ],
   "source": [
    "l"
   ]
  },
  {
   "cell_type": "code",
   "execution_count": 9,
   "id": "b7e5075d-1943-40ae-a7e0-38d15408d6b1",
   "metadata": {},
   "outputs": [
    {
     "data": {
      "text/plain": [
       "3"
      ]
     },
     "execution_count": 9,
     "metadata": {},
     "output_type": "execute_result"
    }
   ],
   "source": [
    "len(l)"
   ]
  },
  {
   "cell_type": "code",
   "execution_count": 10,
   "id": "2d4b43d9-252c-46a1-acbf-5c212c920ac5",
   "metadata": {},
   "outputs": [
    {
     "ename": "TypeError",
     "evalue": "list.append() takes exactly one argument (2 given)",
     "output_type": "error",
     "traceback": [
      "\u001b[1;31m---------------------------------------------------------------------------\u001b[0m",
      "\u001b[1;31mTypeError\u001b[0m                                 Traceback (most recent call last)",
      "Cell \u001b[1;32mIn[10], line 1\u001b[0m\n\u001b[1;32m----> 1\u001b[0m l\u001b[38;5;241m.\u001b[39mappend(\u001b[38;5;241m10\u001b[39m,\u001b[38;5;241m20\u001b[39m)\n",
      "\u001b[1;31mTypeError\u001b[0m: list.append() takes exactly one argument (2 given)"
     ]
    }
   ],
   "source": [
    "l.append(10,20)"
   ]
  },
  {
   "cell_type": "code",
   "execution_count": 11,
   "id": "48f9f7b6-3581-47fd-8a1b-da28ab41c7ab",
   "metadata": {},
   "outputs": [
    {
     "data": {
      "text/plain": [
       "[10, 20, 60, 20]"
      ]
     },
     "execution_count": 11,
     "metadata": {},
     "output_type": "execute_result"
    }
   ],
   "source": [
    "l.append(20)\n",
    "l"
   ]
  },
  {
   "cell_type": "code",
   "execution_count": 12,
   "id": "eabd7134-0ae5-4f76-81ab-d7acc0da381e",
   "metadata": {},
   "outputs": [
    {
     "data": {
      "text/plain": [
       "[10, 20, 60, 20]"
      ]
     },
     "execution_count": 12,
     "metadata": {},
     "output_type": "execute_result"
    }
   ],
   "source": [
    "l"
   ]
  },
  {
   "cell_type": "code",
   "execution_count": 14,
   "id": "34e50fcd-25c7-40e1-8df1-2a5c68c201a6",
   "metadata": {},
   "outputs": [
    {
     "data": {
      "text/plain": [
       "[10, 20, 60, 20]"
      ]
     },
     "execution_count": 14,
     "metadata": {},
     "output_type": "execute_result"
    }
   ],
   "source": [
    "l"
   ]
  },
  {
   "cell_type": "code",
   "execution_count": 15,
   "id": "9ab5b012-9055-4da4-9456-39b75dbb7305",
   "metadata": {},
   "outputs": [
    {
     "data": {
      "text/plain": [
       "10"
      ]
     },
     "execution_count": 15,
     "metadata": {},
     "output_type": "execute_result"
    }
   ],
   "source": [
    "l[0]"
   ]
  },
  {
   "cell_type": "code",
   "execution_count": 16,
   "id": "6ad0e119-3e2d-4982-a356-f95820538c85",
   "metadata": {},
   "outputs": [
    {
     "data": {
      "text/plain": [
       "[10, 50, 60, 20]"
      ]
     },
     "execution_count": 16,
     "metadata": {},
     "output_type": "execute_result"
    }
   ],
   "source": [
    "l[1]=50\n",
    "l"
   ]
  },
  {
   "cell_type": "code",
   "execution_count": 17,
   "id": "f69778ab-4137-4af4-a12b-cf186dd4860c",
   "metadata": {},
   "outputs": [
    {
     "data": {
      "text/plain": [
       "[10, 50, 60, 90]"
      ]
     },
     "execution_count": 17,
     "metadata": {},
     "output_type": "execute_result"
    }
   ],
   "source": [
    "l[-1]=90\n",
    "l"
   ]
  },
  {
   "cell_type": "code",
   "execution_count": 21,
   "id": "e33f01c7-56f7-4086-961f-c60b51a85658",
   "metadata": {},
   "outputs": [
    {
     "data": {
      "text/plain": [
       "[10, 50, 60, 90, -1, 80]"
      ]
     },
     "execution_count": 21,
     "metadata": {},
     "output_type": "execute_result"
    }
   ],
   "source": [
    "l.append(80)\n",
    "l"
   ]
  },
  {
   "cell_type": "code",
   "execution_count": 22,
   "id": "0a110c47-c8c6-4be1-96d1-37f3df006c25",
   "metadata": {},
   "outputs": [
    {
     "data": {
      "text/plain": [
       "[10, 50, 60, 90, -1, 80]"
      ]
     },
     "execution_count": 22,
     "metadata": {},
     "output_type": "execute_result"
    }
   ],
   "source": [
    "l1=l.copy()\n",
    "l1"
   ]
  },
  {
   "cell_type": "code",
   "execution_count": 24,
   "id": "4e1c9496-ee06-4917-9ea6-27d0cf5a5be7",
   "metadata": {},
   "outputs": [
    {
     "name": "stdout",
     "output_type": "stream",
     "text": [
      "[10, 50, 60, 90, -1, 80]\n",
      "[10, 50, 60, 90, -1, 80]\n"
     ]
    }
   ],
   "source": [
    "print(l)\n",
    "print(l1)"
   ]
  },
  {
   "cell_type": "code",
   "execution_count": 26,
   "id": "e8a89e3c-b4a3-40e2-a6ef-90f05b06d0dd",
   "metadata": {},
   "outputs": [
    {
     "data": {
      "text/plain": [
       "True"
      ]
     },
     "execution_count": 26,
     "metadata": {},
     "output_type": "execute_result"
    }
   ],
   "source": [
    "l==l1"
   ]
  },
  {
   "cell_type": "code",
   "execution_count": 27,
   "id": "cde385a2-463e-44ad-be5f-eab9784898de",
   "metadata": {},
   "outputs": [
    {
     "data": {
      "text/plain": [
       "False"
      ]
     },
     "execution_count": 27,
     "metadata": {},
     "output_type": "execute_result"
    }
   ],
   "source": [
    "id(1)==id(l1)"
   ]
  },
  {
   "cell_type": "code",
   "execution_count": 29,
   "id": "189c1317-249b-40fb-a5d2-2a4e4167ce30",
   "metadata": {},
   "outputs": [
    {
     "data": {
      "text/plain": [
       "True"
      ]
     },
     "execution_count": 29,
     "metadata": {},
     "output_type": "execute_result"
    }
   ],
   "source": [
    "id(1)!=id(l1)"
   ]
  },
  {
   "cell_type": "code",
   "execution_count": 30,
   "id": "f28c6432-8955-45c0-a374-bbccbda6967f",
   "metadata": {},
   "outputs": [
    {
     "data": {
      "text/plain": [
       "0"
      ]
     },
     "execution_count": 30,
     "metadata": {},
     "output_type": "execute_result"
    }
   ],
   "source": [
    "l.count(20)"
   ]
  },
  {
   "cell_type": "code",
   "execution_count": 32,
   "id": "e129e7ff-2844-4b82-a4e1-ce110fa74c46",
   "metadata": {},
   "outputs": [
    {
     "data": {
      "text/plain": [
       "[10, 50, 60, 90, -1, 80, 60, 60]"
      ]
     },
     "execution_count": 32,
     "metadata": {},
     "output_type": "execute_result"
    }
   ],
   "source": [
    "l.append(60)\n",
    "l"
   ]
  },
  {
   "cell_type": "code",
   "execution_count": 33,
   "id": "9d59a36a-418a-4012-9476-a99ec2279acc",
   "metadata": {},
   "outputs": [
    {
     "data": {
      "text/plain": [
       "[10, 50, 60, 90, -1, 80, 60, 60]"
      ]
     },
     "execution_count": 33,
     "metadata": {},
     "output_type": "execute_result"
    }
   ],
   "source": [
    "l.count(60)\n",
    "l"
   ]
  },
  {
   "cell_type": "code",
   "execution_count": 34,
   "id": "ebd37c04-cdc3-40d6-9f99-3c3e9a5559c7",
   "metadata": {},
   "outputs": [
    {
     "data": {
      "text/plain": [
       "3"
      ]
     },
     "execution_count": 34,
     "metadata": {},
     "output_type": "execute_result"
    }
   ],
   "source": [
    "l.count(60)"
   ]
  },
  {
   "cell_type": "code",
   "execution_count": 35,
   "id": "9b237837-7b12-4780-8170-adc112583215",
   "metadata": {},
   "outputs": [],
   "source": [
    "l1.clear()"
   ]
  },
  {
   "cell_type": "code",
   "execution_count": 36,
   "id": "cea4415a-72f2-4b4c-8df8-685635da27a7",
   "metadata": {},
   "outputs": [
    {
     "data": {
      "text/plain": [
       "[]"
      ]
     },
     "execution_count": 36,
     "metadata": {},
     "output_type": "execute_result"
    }
   ],
   "source": [
    "l1"
   ]
  },
  {
   "cell_type": "code",
   "execution_count": 37,
   "id": "bac65346-9406-4a97-a11a-276ae93529d3",
   "metadata": {},
   "outputs": [
    {
     "data": {
      "text/plain": [
       "1685957181120"
      ]
     },
     "execution_count": 37,
     "metadata": {},
     "output_type": "execute_result"
    }
   ],
   "source": [
    "id(l)"
   ]
  },
  {
   "cell_type": "code",
   "execution_count": 38,
   "id": "652c952a-2173-4c47-b306-e9094b00c620",
   "metadata": {},
   "outputs": [
    {
     "data": {
      "text/plain": [
       "1685957181120"
      ]
     },
     "execution_count": 38,
     "metadata": {},
     "output_type": "execute_result"
    }
   ],
   "source": [
    "id(l1)"
   ]
  },
  {
   "cell_type": "code",
   "execution_count": 39,
   "id": "0cc9b16f-4fa7-484f-b50b-92dea74e55a0",
   "metadata": {},
   "outputs": [],
   "source": [
    "del l1"
   ]
  },
  {
   "cell_type": "code",
   "execution_count": 40,
   "id": "40a47bc6-4daf-4781-9503-0f6749e4be7f",
   "metadata": {},
   "outputs": [
    {
     "ename": "NameError",
     "evalue": "name 'l1' is not defined",
     "output_type": "error",
     "traceback": [
      "\u001b[1;31m---------------------------------------------------------------------------\u001b[0m",
      "\u001b[1;31mNameError\u001b[0m                                 Traceback (most recent call last)",
      "Cell \u001b[1;32mIn[40], line 1\u001b[0m\n\u001b[1;32m----> 1\u001b[0m l1\n",
      "\u001b[1;31mNameError\u001b[0m: name 'l1' is not defined"
     ]
    }
   ],
   "source": [
    "l1"
   ]
  },
  {
   "cell_type": "code",
   "execution_count": 43,
   "id": "61ffeb90-bbd8-45b9-86e6-1d09d3f380a8",
   "metadata": {},
   "outputs": [
    {
     "data": {
      "text/plain": [
       "[]"
      ]
     },
     "execution_count": 43,
     "metadata": {},
     "output_type": "execute_result"
    }
   ],
   "source": [
    "l2=[]\n",
    "l2"
   ]
  },
  {
   "cell_type": "code",
   "execution_count": 45,
   "id": "795ca2f4-8ceb-4cd5-994b-0a829565505a",
   "metadata": {},
   "outputs": [
    {
     "data": {
      "text/plain": [
       "[9, 'venkat', True, (1+2j), 9.3, 9, 'venkat', True, (1+2j), 9.3]"
      ]
     },
     "execution_count": 45,
     "metadata": {},
     "output_type": "execute_result"
    }
   ],
   "source": [
    "l2.append(9)\n",
    "l2.append('venkat')\n",
    "l2.append(True)\n",
    "l2.append(1+2j)\n",
    "l2.append(9.3)"
   ]
  },
  {
   "cell_type": "code",
   "execution_count": 46,
   "id": "293332c6-1859-4adf-aaf2-4791e683d3b2",
   "metadata": {},
   "outputs": [
    {
     "data": {
      "text/plain": [
       "[9, 'venkat', True, (1+2j), 9.3, 9, 'venkat', True, (1+2j), 9.3]"
      ]
     },
     "execution_count": 46,
     "metadata": {},
     "output_type": "execute_result"
    }
   ],
   "source": [
    "l2"
   ]
  },
  {
   "cell_type": "code",
   "execution_count": 47,
   "id": "5c73231e-2ec7-489f-b2fe-15e13a8a468e",
   "metadata": {},
   "outputs": [
    {
     "ename": "ValueError",
     "evalue": "9 is not in list",
     "output_type": "error",
     "traceback": [
      "\u001b[1;31m---------------------------------------------------------------------------\u001b[0m",
      "\u001b[1;31mValueError\u001b[0m                                Traceback (most recent call last)",
      "Cell \u001b[1;32mIn[47], line 1\u001b[0m\n\u001b[1;32m----> 1\u001b[0m l\u001b[38;5;241m.\u001b[39mindex(\u001b[38;5;241m9\u001b[39m)\n",
      "\u001b[1;31mValueError\u001b[0m: 9 is not in list"
     ]
    }
   ],
   "source": [
    "l.index(9)"
   ]
  },
  {
   "cell_type": "code",
   "execution_count": 48,
   "id": "2edf791c-2c3a-426a-8ad7-fd91ea051187",
   "metadata": {},
   "outputs": [
    {
     "data": {
      "text/plain": [
       "0"
      ]
     },
     "execution_count": 48,
     "metadata": {},
     "output_type": "execute_result"
    }
   ],
   "source": [
    "l2.index(9)"
   ]
  },
  {
   "cell_type": "code",
   "execution_count": 52,
   "id": "f4927a3b-6ab0-4958-a8d2-bfc26b0f943a",
   "metadata": {},
   "outputs": [
    {
     "data": {
      "text/plain": [
       "1"
      ]
     },
     "execution_count": 52,
     "metadata": {},
     "output_type": "execute_result"
    }
   ],
   "source": [
    "l2.index('venkat')\n"
   ]
  },
  {
   "cell_type": "code",
   "execution_count": 53,
   "id": "11966382-7d77-484f-9f7c-7748f170b57f",
   "metadata": {},
   "outputs": [
    {
     "data": {
      "text/plain": [
       "4"
      ]
     },
     "execution_count": 53,
     "metadata": {},
     "output_type": "execute_result"
    }
   ],
   "source": [
    "l2.index(9.3)"
   ]
  },
  {
   "cell_type": "code",
   "execution_count": 54,
   "id": "6791279e-d115-46e7-9d8b-73d5b648dd7f",
   "metadata": {},
   "outputs": [
    {
     "name": "stderr",
     "output_type": "stream",
     "text": [
      "<>:1: SyntaxWarning: 'int' object is not subscriptable; perhaps you missed a comma?\n",
      "<>:1: SyntaxWarning: 'int' object is not subscriptable; perhaps you missed a comma?\n",
      "C:\\Users\\user\\AppData\\Local\\Temp\\ipykernel_16952\\4168561654.py:1: SyntaxWarning: 'int' object is not subscriptable; perhaps you missed a comma?\n",
      "  12[1][0]\n",
      "C:\\Users\\user\\AppData\\Local\\Temp\\ipykernel_16952\\4168561654.py:1: SyntaxWarning: 'int' object is not subscriptable; perhaps you missed a comma?\n",
      "  12[1][0]\n",
      "C:\\Users\\user\\AppData\\Local\\Temp\\ipykernel_16952\\4168561654.py:1: SyntaxWarning: 'int' object is not subscriptable; perhaps you missed a comma?\n",
      "  12[1][0]\n",
      "C:\\Users\\user\\AppData\\Local\\Temp\\ipykernel_16952\\4168561654.py:1: SyntaxWarning: 'int' object is not subscriptable; perhaps you missed a comma?\n",
      "  12[1][0]\n",
      "C:\\Users\\user\\AppData\\Local\\Temp\\ipykernel_16952\\4168561654.py:1: SyntaxWarning: 'int' object is not subscriptable; perhaps you missed a comma?\n",
      "  12[1][0]\n",
      "C:\\Users\\user\\AppData\\Local\\Temp\\ipykernel_16952\\4168561654.py:1: SyntaxWarning: 'int' object is not subscriptable; perhaps you missed a comma?\n",
      "  12[1][0]\n",
      "C:\\Users\\user\\AppData\\Local\\Temp\\ipykernel_16952\\4168561654.py:1: SyntaxWarning: 'int' object is not subscriptable; perhaps you missed a comma?\n",
      "  12[1][0]\n"
     ]
    },
    {
     "ename": "TypeError",
     "evalue": "'int' object is not subscriptable",
     "output_type": "error",
     "traceback": [
      "\u001b[1;31m---------------------------------------------------------------------------\u001b[0m",
      "\u001b[1;31mTypeError\u001b[0m                                 Traceback (most recent call last)",
      "Cell \u001b[1;32mIn[54], line 1\u001b[0m\n\u001b[1;32m----> 1\u001b[0m \u001b[38;5;241m12\u001b[39m[\u001b[38;5;241m1\u001b[39m][\u001b[38;5;241m0\u001b[39m]\n",
      "\u001b[1;31mTypeError\u001b[0m: 'int' object is not subscriptable"
     ]
    }
   ],
   "source": [
    "12[1][0]"
   ]
  },
  {
   "cell_type": "code",
   "execution_count": 55,
   "id": "751488ce-a227-4dd4-bb75-ed0d189e3595",
   "metadata": {},
   "outputs": [
    {
     "data": {
      "text/plain": [
       "[10, 50, 60, 90, -1, 80, 60, 60]"
      ]
     },
     "execution_count": 55,
     "metadata": {},
     "output_type": "execute_result"
    }
   ],
   "source": [
    "l3=[10, 50, 60, 90, -1, 80, 60, 60]\n",
    "l3"
   ]
  },
  {
   "cell_type": "code",
   "execution_count": 56,
   "id": "08345674-d69c-41aa-bb48-1a2123bfb595",
   "metadata": {},
   "outputs": [],
   "source": [
    "l5=[10,'venkat', 90, -1, 80, 60, 60]"
   ]
  },
  {
   "cell_type": "code",
   "execution_count": 57,
   "id": "57ad9161-afd8-4d31-9ef9-7272162f8b48",
   "metadata": {},
   "outputs": [
    {
     "data": {
      "text/plain": [
       "[10, 'venkat', 90, -1, 80, 60, 60]"
      ]
     },
     "execution_count": 57,
     "metadata": {},
     "output_type": "execute_result"
    }
   ],
   "source": [
    "l5"
   ]
  },
  {
   "cell_type": "code",
   "execution_count": 58,
   "id": "1181bf22-a1c5-4e06-8992-fb24dd96bca7",
   "metadata": {},
   "outputs": [
    {
     "data": {
      "text/plain": [
       "'venkat'"
      ]
     },
     "execution_count": 58,
     "metadata": {},
     "output_type": "execute_result"
    }
   ],
   "source": [
    "l5[1]"
   ]
  },
  {
   "cell_type": "code",
   "execution_count": 59,
   "id": "6375a52c-b320-4841-b8d7-11213e9892fc",
   "metadata": {},
   "outputs": [
    {
     "data": {
      "text/plain": [
       "'e'"
      ]
     },
     "execution_count": 59,
     "metadata": {},
     "output_type": "execute_result"
    }
   ],
   "source": [
    "l5[1][1]"
   ]
  },
  {
   "cell_type": "code",
   "execution_count": 60,
   "id": "26b95e81-a08f-4ea1-a3bb-ee81b3c31049",
   "metadata": {},
   "outputs": [
    {
     "ename": "TypeError",
     "evalue": "'int' object is not subscriptable",
     "output_type": "error",
     "traceback": [
      "\u001b[1;31m---------------------------------------------------------------------------\u001b[0m",
      "\u001b[1;31mTypeError\u001b[0m                                 Traceback (most recent call last)",
      "Cell \u001b[1;32mIn[60], line 1\u001b[0m\n\u001b[1;32m----> 1\u001b[0m \u001b[38;5;28mprint\u001b[39m(l5[\u001b[38;5;241m2\u001b[39m][\u001b[38;5;241m0\u001b[39m])\n\u001b[0;32m      2\u001b[0m \u001b[38;5;28mprint\u001b[39m(l5[\u001b[38;5;241m2\u001b[39m][\u001b[38;5;241m1\u001b[39m])\n\u001b[0;32m      3\u001b[0m \u001b[38;5;28mprint\u001b[39m(l5[\u001b[38;5;241m2\u001b[39m][\u001b[38;5;241m2\u001b[39m])\n",
      "\u001b[1;31mTypeError\u001b[0m: 'int' object is not subscriptable"
     ]
    }
   ],
   "source": [
    "print(l5[2][0])\n",
    "print(l5[2][1])\n",
    "print(l5[2][2])\n",
    "print(l5[2][4])\n",
    "print(l5[2][5])"
   ]
  },
  {
   "cell_type": "code",
   "execution_count": 61,
   "id": "93e95b90-3500-4027-8cc2-2028d46dcf0c",
   "metadata": {},
   "outputs": [
    {
     "data": {
      "text/plain": [
       "[10, 'venkat', 90, -1, 80, 60, 60]"
      ]
     },
     "execution_count": 61,
     "metadata": {},
     "output_type": "execute_result"
    }
   ],
   "source": [
    "l5[:]"
   ]
  },
  {
   "cell_type": "code",
   "execution_count": 62,
   "id": "3c426fd1-a283-4fdf-aacb-55e11baaccb2",
   "metadata": {},
   "outputs": [
    {
     "data": {
      "text/plain": [
       "[-1, 80, 60, 60]"
      ]
     },
     "execution_count": 62,
     "metadata": {},
     "output_type": "execute_result"
    }
   ],
   "source": [
    "l5[3:]"
   ]
  },
  {
   "cell_type": "code",
   "execution_count": 64,
   "id": "a98ddaef-2b39-478c-b5ad-d1fcd97cc8e0",
   "metadata": {},
   "outputs": [
    {
     "data": {
      "text/plain": [
       "[10, 'venkat', 90, -1, 80, 60, 60]"
      ]
     },
     "execution_count": 64,
     "metadata": {},
     "output_type": "execute_result"
    }
   ],
   "source": [
    "l5[:10]"
   ]
  },
  {
   "cell_type": "code",
   "execution_count": 65,
   "id": "8410a0b7-a5c3-4f68-aa92-2223d1940351",
   "metadata": {},
   "outputs": [
    {
     "data": {
      "text/plain": [
       "[10, 90, 80]"
      ]
     },
     "execution_count": 65,
     "metadata": {},
     "output_type": "execute_result"
    }
   ],
   "source": [
    "l5[0:5:2]"
   ]
  },
  {
   "cell_type": "code",
   "execution_count": 66,
   "id": "0255166e-37da-41c8-9f7a-930a30daecea",
   "metadata": {},
   "outputs": [
    {
     "data": {
      "text/plain": [
       "[10, 'venkat', 90, -1, 80, 60, 60]"
      ]
     },
     "execution_count": 66,
     "metadata": {},
     "output_type": "execute_result"
    }
   ],
   "source": [
    "l5"
   ]
  },
  {
   "cell_type": "code",
   "execution_count": null,
   "id": "2d98d758-15d1-4c13-a3cd-6d2884e318bf",
   "metadata": {},
   "outputs": [],
   "source": []
  },
  {
   "cell_type": "code",
   "execution_count": 67,
   "id": "4e28b571-6bc7-40fa-8ae5-c5b205db3569",
   "metadata": {},
   "outputs": [
    {
     "data": {
      "text/plain": [
       "['venkat', -1, 60]"
      ]
     },
     "execution_count": 67,
     "metadata": {},
     "output_type": "execute_result"
    }
   ],
   "source": [
    "l5[1:10:2]"
   ]
  },
  {
   "cell_type": "code",
   "execution_count": 68,
   "id": "3abc1aad-8c2d-41c1-ada6-988012f014bf",
   "metadata": {},
   "outputs": [],
   "source": [
    "l5.insert(5,2)"
   ]
  },
  {
   "cell_type": "code",
   "execution_count": 69,
   "id": "a512e93d-9d8c-4d06-b5a7-ac9577656386",
   "metadata": {},
   "outputs": [
    {
     "data": {
      "text/plain": [
       "[10, 'venkat', 90, -1, 80, 60, 60]"
      ]
     },
     "execution_count": 69,
     "metadata": {},
     "output_type": "execute_result"
    }
   ],
   "source": [
    "l5"
   ]
  },
  {
   "cell_type": "code",
   "execution_count": 70,
   "id": "1a45ee9a-0d41-4ccb-bb18-82ab55f86128",
   "metadata": {},
   "outputs": [],
   "source": [
    "l5.insert(2,15)"
   ]
  },
  {
   "cell_type": "code",
   "execution_count": 71,
   "id": "fdb9239e-0d50-4b23-8b51-6fa72bebc2f6",
   "metadata": {},
   "outputs": [
    {
     "data": {
      "text/plain": [
       "[10, 'venkat', 15, 90, -1, 80, 60, 60]"
      ]
     },
     "execution_count": 71,
     "metadata": {},
     "output_type": "execute_result"
    }
   ],
   "source": [
    "l5"
   ]
  },
  {
   "cell_type": "code",
   "execution_count": 72,
   "id": "076c4c14-c597-4c17-bf3f-4cf8a8d767f9",
   "metadata": {},
   "outputs": [
    {
     "data": {
      "text/plain": [
       "2"
      ]
     },
     "execution_count": 72,
     "metadata": {},
     "output_type": "execute_result"
    }
   ],
   "source": [
    "l.pop()"
   ]
  },
  {
   "cell_type": "code",
   "execution_count": 73,
   "id": "e1ce94f1-431c-4aac-aea0-a3c5705ff630",
   "metadata": {},
   "outputs": [
    {
     "data": {
      "text/plain": [
       "60"
      ]
     },
     "execution_count": 73,
     "metadata": {},
     "output_type": "execute_result"
    }
   ],
   "source": [
    "l5.pop()"
   ]
  },
  {
   "cell_type": "code",
   "execution_count": 74,
   "id": "eb9f6a4a-215f-47ed-a57d-10a41709d011",
   "metadata": {},
   "outputs": [
    {
     "data": {
      "text/plain": [
       "[10, 'venkat', 15, 90, -1, 80, 60]"
      ]
     },
     "execution_count": 74,
     "metadata": {},
     "output_type": "execute_result"
    }
   ],
   "source": [
    "l5"
   ]
  },
  {
   "cell_type": "code",
   "execution_count": 76,
   "id": "5fb5954e-3fbe-4a78-b2ba-89678c41d0e8",
   "metadata": {},
   "outputs": [
    {
     "data": {
      "text/plain": [
       "[10, 'venkat', 15, 90, -1, 80, 60, (1+2j), (1+2j)]"
      ]
     },
     "execution_count": 76,
     "metadata": {},
     "output_type": "execute_result"
    }
   ],
   "source": [
    "l5.append(1+2j)\n",
    "l5"
   ]
  },
  {
   "cell_type": "code",
   "execution_count": 77,
   "id": "8e77b5a6-e346-4df7-89c3-fd21fadefb89",
   "metadata": {},
   "outputs": [
    {
     "data": {
      "text/plain": [
       "(1+2j)"
      ]
     },
     "execution_count": 77,
     "metadata": {},
     "output_type": "execute_result"
    }
   ],
   "source": [
    "l5.pop(7)"
   ]
  },
  {
   "cell_type": "code",
   "execution_count": 78,
   "id": "00af99a6-632f-4de1-bf57-514bcebd60ed",
   "metadata": {},
   "outputs": [
    {
     "data": {
      "text/plain": [
       "[10, 'venkat', 15, 90, -1, 80, 60, (1+2j)]"
      ]
     },
     "execution_count": 78,
     "metadata": {},
     "output_type": "execute_result"
    }
   ],
   "source": [
    "l5"
   ]
  },
  {
   "cell_type": "code",
   "execution_count": 80,
   "id": "d6e2fff1-3e98-409a-af82-6e7d3ead08be",
   "metadata": {},
   "outputs": [],
   "source": [
    "l5.remove(1+2j)"
   ]
  },
  {
   "cell_type": "code",
   "execution_count": 81,
   "id": "5440f9aa-1775-4311-a533-89f5a05ed9ba",
   "metadata": {},
   "outputs": [
    {
     "data": {
      "text/plain": [
       "[10, 'venkat', 15, 90, -1, 80, 60]"
      ]
     },
     "execution_count": 81,
     "metadata": {},
     "output_type": "execute_result"
    }
   ],
   "source": [
    "l5"
   ]
  },
  {
   "cell_type": "code",
   "execution_count": 82,
   "id": "139fb955-4e43-41ef-b94b-252db73f0f38",
   "metadata": {},
   "outputs": [
    {
     "data": {
      "text/plain": [
       "2000"
      ]
     },
     "execution_count": 82,
     "metadata": {},
     "output_type": "execute_result"
    }
   ],
   "source": [
    "width=50\n",
    "height=40\n",
    "width*height"
   ]
  },
  {
   "cell_type": "code",
   "execution_count": null,
   "id": "16921cca-3e09-49c5-af32-7c2130457545",
   "metadata": {},
   "outputs": [],
   "source": []
  }
 ],
 "metadata": {
  "kernelspec": {
   "display_name": "Python [conda env:base] *",
   "language": "python",
   "name": "conda-base-py"
  },
  "language_info": {
   "codemirror_mode": {
    "name": "ipython",
    "version": 3
   },
   "file_extension": ".py",
   "mimetype": "text/x-python",
   "name": "python",
   "nbconvert_exporter": "python",
   "pygments_lexer": "ipython3",
   "version": "3.12.7"
  }
 },
 "nbformat": 4,
 "nbformat_minor": 5
}
